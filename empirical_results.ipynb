{
 "cells": [
  {
   "cell_type": "code",
   "execution_count": 1,
   "metadata": {},
   "outputs": [],
   "source": [
    "import sys\n",
    "import os\n",
    "\n",
    "notebook_dir = os.getcwd()\n",
    "src_dir = os.path.join(notebook_dir, 'src')\n",
    "sys.path.append(src_dir)\n",
    "\n",
    "from polynomials import *\n",
    "from attack import *\n",
    "from communications import *\n",
    "from experiments import *"
   ]
  },
  {
   "cell_type": "code",
   "execution_count": null,
   "metadata": {},
   "outputs": [],
   "source": [
    "# Read the public key and the polynomial Q corresponding to the message we want to sign\n",
    "file_path = 'pk.txt'\n",
    "pk, q = read_pk(file_path)"
   ]
  },
  {
   "cell_type": "code",
   "execution_count": null,
   "metadata": {},
   "outputs": [],
   "source": [
    "# Compute the polynomials P and phi(P) defined on section 4.2\n",
    "p, phi_p = precomputation(pk)"
   ]
  },
  {
   "cell_type": "code",
   "execution_count": null,
   "metadata": {},
   "outputs": [],
   "source": [
    "# Reproduce the experiment described on section 5\n",
    "q += 32\n",
    "print(\"Getting hist_p:\") # Step 2 of the algorithm: find matches\n",
    "hist_p = get_hist(p, q)\n",
    "print(\"Done!\\nNow getting hist_phi_p\")\n",
    "hist_phi_p = get_hist(phi_p, q)\n",
    "equal = np.sum(np.minimum(hist_p, hist_phi_p))\n",
    "n = 32\n",
    "proportion = equal/(2**n)\n",
    "distance = 1 - proportion\n",
    "print(\"delta: \", distance)\n",
    "q += -32"
   ]
  },
  {
   "cell_type": "code",
   "execution_count": null,
   "metadata": {},
   "outputs": [],
   "source": [
    "# Estimate the probability of accepting Q.\n",
    "count = 0\n",
    "n = 1000\n",
    "\n",
    "for i in range(n):\n",
    "    if validate(pk, q, q): count += 1\n",
    "\n",
    "print(\"Q is a valid signature with probability approximately \", count/n)"
   ]
  },
  {
   "cell_type": "code",
   "execution_count": null,
   "metadata": {},
   "outputs": [],
   "source": [
    "# Estimate the probability of accepting a valid signature.\n",
    "with open(file_path, 'r') as file:\n",
    "    content = file.read()\n",
    "lines = content.splitlines()\n",
    "phi_q, _ = find_polynomial(lines[7])\n",
    "\n",
    "count = 0\n",
    "n = 1000\n",
    "\n",
    "for i in range(n):\n",
    "    if validate(pk, q, phi_q): count += 1\n",
    "\n",
    "print(\"Q is a valid signature with probability approximately \", count/n)"
   ]
  }
 ],
 "metadata": {
  "kernelspec": {
   "display_name": "Python 3.11.5 64-bit",
   "language": "python",
   "name": "python3"
  },
  "language_info": {
   "codemirror_mode": {
    "name": "ipython",
    "version": 3
   },
   "file_extension": ".py",
   "mimetype": "text/x-python",
   "name": "python",
   "nbconvert_exporter": "python",
   "pygments_lexer": "ipython3",
   "version": "3.11.5"
  },
  "orig_nbformat": 4,
  "vscode": {
   "interpreter": {
    "hash": "aee8b7b246df8f9039afb4144a1f6fd8d2ca17a180786b69acc140d282b71a49"
   }
  }
 },
 "nbformat": 4,
 "nbformat_minor": 2
}
