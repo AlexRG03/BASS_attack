{
 "cells": [
  {
   "cell_type": "code",
   "execution_count": 1,
   "metadata": {},
   "outputs": [],
   "source": [
    "import sys\n",
    "import os\n",
    "\n",
    "notebook_dir = os.getcwd()\n",
    "src_dir = os.path.join(notebook_dir, 'src')\n",
    "sys.path.append(src_dir)\n",
    "\n",
    "from polynomials import *\n",
    "from attack import *\n",
    "from communications import *\n",
    "from experiments import *"
   ]
  },
  {
   "cell_type": "code",
   "execution_count": 2,
   "metadata": {},
   "outputs": [
    {
     "name": "stdout",
     "output_type": "stream",
     "text": [
      "All p_i calculated in:  0.0026848316192626953  seconds.\n",
      "phi_p1 calculated in:  291.76824498176575  seconds. Size: 2^ 24\n",
      "phi_p2 calculated in:  4.491187810897827  seconds. Size: 2^ 21\n",
      "phi_p3 calculated in:  2.8341407775878906  seconds. Size: 2^ 21\n",
      "Q calculated in:  0.006749868392944336  seconds. Size: 2^ 17\n"
     ]
    }
   ],
   "source": [
    "# Read the public key and the polynomial Q corresponding to the message we want to sign\n",
    "file_path = 'src/pk.txt'\n",
    "pk, q = read_pk(file_path)"
   ]
  },
  {
   "cell_type": "code",
   "execution_count": 3,
   "metadata": {},
   "outputs": [
    {
     "name": "stdout",
     "output_type": "stream",
     "text": [
      "P calculated in:  0.013046026229858398  seconds,  0.00021743377049763998  minutes.\n",
      "phi_P calculated in:  46.231996059417725  seconds,  0.7705332676569621  minutes.\n",
      "P expanded in:  15.234513998031616  seconds,  0.25390856663386024  minutes.\n"
     ]
    }
   ],
   "source": [
    "# Compute the polynomials P and phi(P) defined on section 4.2\n",
    "p, phi_p = precomputation(pk)"
   ]
  },
  {
   "cell_type": "code",
   "execution_count": 4,
   "metadata": {},
   "outputs": [
    {
     "name": "stdout",
     "output_type": "stream",
     "text": [
      "delta (sigma = 0):  0.775726318359375\n",
      "Getting hist_p:\n",
      "Done!\n",
      "Now getting hist_phi_p\n",
      "delta:  0.1445618881843984\n"
     ]
    }
   ],
   "source": [
    "# Reproduce the experiment described on section 5\n",
    "q += 32\n",
    "print(\"delta (sigma = 0): \", 1-np.bincount(q._coef,minlength=64)[32]/2**q._idx.size)\n",
    "print(\"Getting hist_p:\") # Step 2 of the algorithm: find matches\n",
    "hist_p = get_hist(p, q)\n",
    "print(\"Done!\\nNow getting hist_phi_p\")\n",
    "hist_phi_p = get_hist(phi_p, q)\n",
    "equal = np.sum(np.minimum(hist_p, hist_phi_p))\n",
    "n = 32\n",
    "proportion = equal/(2**n)\n",
    "distance = 1 - proportion\n",
    "print(\"delta: \", distance)\n",
    "q += -32"
   ]
  },
  {
   "cell_type": "code",
   "execution_count": 5,
   "metadata": {},
   "outputs": [
    {
     "name": "stdout",
     "output_type": "stream",
     "text": [
      "0\n",
      "100\n",
      "200\n",
      "300\n",
      "400\n",
      "500\n",
      "600\n",
      "700\n",
      "800\n",
      "900\n",
      "Q is a valid signature with probability approximately  0.649\n"
     ]
    }
   ],
   "source": [
    "# Estimate the probability of accepting Q.\n",
    "count = 0\n",
    "n = 1000\n",
    "\n",
    "for i in range(n):\n",
    "    if i % 100 == 0: print(i)\n",
    "    if validate(pk, q, q): count += 1\n",
    "\n",
    "print(\"Q is a valid signature with probability approximately \", count/n)"
   ]
  },
  {
   "cell_type": "code",
   "execution_count": 6,
   "metadata": {},
   "outputs": [
    {
     "name": "stdout",
     "output_type": "stream",
     "text": [
      "0\n",
      "100\n",
      "200\n",
      "300\n",
      "400\n",
      "500\n",
      "600\n",
      "700\n",
      "800\n",
      "900\n",
      "0 is a valid signature with probability approximately  0.663\n"
     ]
    }
   ],
   "source": [
    "# Estimate the probability of accepting Q.\n",
    "count = 0\n",
    "n = 1000\n",
    "signature = polynomial(np.array([0]))\n",
    "\n",
    "for i in range(n):\n",
    "    if i % 100 == 0: print(i)\n",
    "    if validate(pk, q, q): count += 1\n",
    "\n",
    "print(\"0 is a valid signature with probability approximately \", count/n)"
   ]
  },
  {
   "cell_type": "code",
   "execution_count": 8,
   "metadata": {},
   "outputs": [
    {
     "name": "stdout",
     "output_type": "stream",
     "text": [
      "0 is a valid signature with probability approximately  0.663\n"
     ]
    }
   ],
   "source": [
    "print(\"0 is a valid signature with probability approximately \", count/n)"
   ]
  },
  {
   "cell_type": "code",
   "execution_count": 9,
   "metadata": {},
   "outputs": [],
   "source": [
    "# Estimate the probability of accepting a valid signature.\n",
    "with open(file_path, 'r') as file:\n",
    "    content = file.read()\n",
    "lines = content.splitlines()\n",
    "phi_q, _ = find_polynomial(lines[7])\n",
    "\n",
    "count = 0\n",
    "n = 1000\n",
    "\n",
    "for i in range(n):\n",
    "    if validate(pk, q, phi_q): count += 1\n",
    "\n",
    "print(\"Q is a valid signature with probability approximately \", count/n)"
   ]
  }
 ],
 "metadata": {
  "kernelspec": {
   "display_name": "Python 3.11.5 64-bit",
   "language": "python",
   "name": "python3"
  },
  "language_info": {
   "codemirror_mode": {
    "name": "ipython",
    "version": 3
   },
   "file_extension": ".py",
   "mimetype": "text/x-python",
   "name": "python",
   "nbconvert_exporter": "python",
   "pygments_lexer": "ipython3",
   "version": "3.11.5"
  },
  "orig_nbformat": 4,
  "vscode": {
   "interpreter": {
    "hash": "aee8b7b246df8f9039afb4144a1f6fd8d2ca17a180786b69acc140d282b71a49"
   }
  }
 },
 "nbformat": 4,
 "nbformat_minor": 2
}
