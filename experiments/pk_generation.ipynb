{
 "cells": [
  {
   "cell_type": "code",
   "execution_count": null,
   "metadata": {},
   "outputs": [],
   "source": [
    "import string\n",
    "import sys\n",
    "import os\n",
    "import random\n",
    "\n",
    "notebook_dir = os.getcwd()\n",
    "src_dir = os.path.join(notebook_dir, '../pk_functions')\n",
    "sys.path.append(src_dir)\n",
    "\n",
    "from polynomials import *\n",
    "from scheme_functions import *"
   ]
  },
  {
   "cell_type": "code",
   "execution_count": null,
   "metadata": {},
   "outputs": [],
   "source": [
    "# Generation of public key files\n",
    "for i in range(18):\n",
    "    phi = generate_phi()\n",
    "    p1 = get_p()\n",
    "    p2 = get_p()\n",
    "    p3 = get_p()\n",
    "    print(\"P1: \", p1)\n",
    "    print(\"P2: \", p2)\n",
    "    print(\"P3: \", p3)\n",
    "    phi_p1 = phi.apply(p1)\n",
    "    print(\"phi_P1: \", phi_p1)\n",
    "    phi_p2 = phi.apply(p2)\n",
    "    print(\"phi_P2: \", phi_p2)\n",
    "    phi_p3 = phi.apply(p3)\n",
    "    print(\"phi_P3: \", phi_p3)\n",
    "    pk = [p1, p2, p3, phi_p1, phi_p2, phi_p3]\n",
    "    file_path = \"public_keys/pk\"+str(i)+\".txt\"\n",
    "    with open(file_path, 'w') as file:\n",
    "        for element in pk:\n",
    "            file.write(element.print(False)+\"\\n\")\n",
    "    print(\"Written \", i)"
   ]
  },
  {
   "cell_type": "code",
   "execution_count": 5,
   "metadata": {},
   "outputs": [
    {
     "name": "stdout",
     "output_type": "stream",
     "text": [
      "message we want to send:  pMHmJyPaMkNdKiBGuUSn\n",
      "message we want to send:  SDXbjzVNpEcJaCQvzXNj\n",
      "message we want to send:  AowezaedbLkqDKXVhOBZ\n",
      "message we want to send:  wuFAIgiYhYuFezHARgkC\n",
      "message we want to send:  fggAvezZUqeWXEnVyrMG\n",
      "message we want to send:  BqIpTENLiGbXShIMtABZ\n",
      "message we want to send:  hnVbBcVZgkjQFyFQnntf\n",
      "message we want to send:  MrWzQtnOXZektYCfOrxZ\n",
      "message we want to send:  OJZHBWyWzDgdPDUvUBSt\n",
      "message we want to send:  UFRvdWeZwbGCAbizNrYW\n",
      "message we want to send:  oKrEzOOgYqfNmiOerSnE\n",
      "message we want to send:  SUwfnadJZDvXPgEmKOfu\n",
      "message we want to send:  SzjUXpTAdJEhbvlXiQfV\n",
      "message we want to send:  pRZmwNCryJdUCBwASawN\n",
      "message we want to send:  rJUScyBcAtKhYbrJnVHJ\n",
      "message we want to send:  BGcCEIvcTksRUFLulijU\n",
      "message we want to send:  cDLyiUpupnfQSaPElXQq\n",
      "message we want to send:  cSKuYEHPXPJPYHmifBUA\n",
      "message we want to send:  JAUcxDZPqtlJwpfLnJVn\n",
      "message we want to send:  UFNhQaDOtTJBCrLctYdl\n",
      "message we want to send:  SEcddrGXFSMmjYbAYcgC\n",
      "message we want to send:  MnIoudTPpANWJwDRLFPM\n",
      "message we want to send:  UcdtWeHgYYtpcUqjCKvt\n",
      "message we want to send:  onUrlqsRtHpLGruvgcWz\n",
      "message we want to send:  pNasWaphwrokNgrVyGFm\n",
      "message we want to send:  FVGgkqlGKyfBQxlRgRYK\n",
      "message we want to send:  xSqZzgrUYKFNvatGjpto\n",
      "message we want to send:  TJWsCPacbntAcCFjApce\n",
      "message we want to send:  kZrlQGrfgosVfUQdNvcG\n",
      "message we want to send:  teWydLFMuQWMSnzMxNtK\n",
      "message we want to send:  nmQEtqhfQloaPcJiSmPn\n",
      "message we want to send:  qVyhSwUcLdRAuOipVeVX\n"
     ]
    }
   ],
   "source": [
    "# Generation of message polynomials Q files\n",
    "n = 20\n",
    "for i in range(32):\n",
    "    message = ''.join(random.choices(string.ascii_letters, k=n))\n",
    "    print(\"message we want to send: \", message)\n",
    "    # Find Q.\n",
    "    q = get_Q(message)\n",
    "    file_path = \"message_polynomials/q\"+str(i)+\".txt\"\n",
    "    with open(file_path, 'w') as file:\n",
    "        file.write(q.print(False)+\"\\n\")"
   ]
  }
 ],
 "metadata": {
  "kernelspec": {
   "display_name": "Python 3.11.5 64-bit",
   "language": "python",
   "name": "python3"
  },
  "language_info": {
   "codemirror_mode": {
    "name": "ipython",
    "version": 3
   },
   "file_extension": ".py",
   "mimetype": "text/x-python",
   "name": "python",
   "nbconvert_exporter": "python",
   "pygments_lexer": "ipython3",
   "version": "3.11.5"
  },
  "orig_nbformat": 4,
  "vscode": {
   "interpreter": {
    "hash": "aee8b7b246df8f9039afb4144a1f6fd8d2ca17a180786b69acc140d282b71a49"
   }
  }
 },
 "nbformat": 4,
 "nbformat_minor": 2
}
