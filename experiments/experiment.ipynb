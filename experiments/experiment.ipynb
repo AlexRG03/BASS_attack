{
 "cells": [
  {
   "cell_type": "code",
   "execution_count": null,
   "metadata": {},
   "outputs": [],
   "source": [
    "import string\n",
    "import sys\n",
    "import os\n",
    "import random\n",
    "import pandas as pd\n",
    "\n",
    "notebook_dir = os.getcwd()\n",
    "src_dir = os.path.join(notebook_dir, '../src')\n",
    "sys.path.append(src_dir)\n",
    "\n",
    "from polynomials import *\n",
    "from attack import *\n",
    "from communications import *\n",
    "from experiments import *"
   ]
  },
  {
   "cell_type": "code",
   "execution_count": null,
   "metadata": {},
   "outputs": [],
   "source": [
    "# Compute probabilities of accepting 0 for each (pk,m) pair and save the results in a .csv file\n",
    "filename = \"stats/0_probabilities.csv\"\n",
    "df = pd.DataFrame([[0]*32]*18, dtype=float)\n",
    "n = 100\n",
    "\n",
    "zero = polynomial(np.array([0]))\n",
    "for i in range(18):\n",
    "    print(\"checking pk number \", i)\n",
    "    file_path = \"public_keys/pk\"+str(i)+\".txt\"\n",
    "    pk, _ = read_pk(file_path, False)\n",
    "    for j in range(32):\n",
    "        print(\"Reading message \", j)\n",
    "        file_path = \"message_polynomials/q\"+str(j)+\".txt\"\n",
    "        with open(file_path, 'r') as file:\n",
    "            content = file.read()\n",
    "        lines = content.splitlines()\n",
    "        q, _ = find_polynomial(lines[0])\n",
    "        count = 0\n",
    "        \n",
    "        print(\"Verifying...\")\n",
    "        for k in range(n):\n",
    "            if validate(pk, q, zero): count += 1\n",
    "        df.iloc[i,j]=count/n\n",
    "\n",
    "    df.to_csv(filename, index=False, header=False)\n",
    "    print(f\"Stats successfully written to {filename}\")\n"
   ]
  },
  {
   "cell_type": "code",
   "execution_count": null,
   "metadata": {},
   "outputs": [],
   "source": [
    "# Compute probabilities of accepting 0 for each (pk,m) pair and save the results in a .csv file\n",
    "filename = \"stats/Q_probabilities.csv\"\n",
    "df = pd.DataFrame([[0]*32]*18, dtype=float)\n",
    "n = 100\n",
    "\n",
    "for i in range(18):\n",
    "    print(\"checking pk number \", i)\n",
    "    file_path = \"public_keys/pk\"+str(i)+\".txt\"\n",
    "    pk, _ = read_pk(file_path, False)\n",
    "    for j in range(32):\n",
    "        print(\"Reading message \", j)\n",
    "        file_path = \"message_polynomial/q\"+str(j)+\".txt\"\n",
    "        with open(file_path, 'r') as file:\n",
    "            content = file.read()\n",
    "        lines = content.splitlines()\n",
    "        q, _ = find_polynomial(lines[0])\n",
    "        count = 0\n",
    "        print(\"Verifying...\")\n",
    "        for k in range(n):\n",
    "            if validate(pk, q, q): count += 1\n",
    "        df.iloc[i,j]=count/n\n",
    "\n",
    "    df.to_csv(filename, index=False, header=False)\n",
    "    print(f\"Stats successfully written to {filename}\")\n"
   ]
  }
 ],
 "metadata": {
  "kernelspec": {
   "display_name": "Python 3.11.5 64-bit",
   "language": "python",
   "name": "python3"
  },
  "language_info": {
   "codemirror_mode": {
    "name": "ipython",
    "version": 3
   },
   "file_extension": ".py",
   "mimetype": "text/x-python",
   "name": "python",
   "nbconvert_exporter": "python",
   "pygments_lexer": "ipython3",
   "version": "3.11.5"
  },
  "orig_nbformat": 4,
  "vscode": {
   "interpreter": {
    "hash": "aee8b7b246df8f9039afb4144a1f6fd8d2ca17a180786b69acc140d282b71a49"
   }
  }
 },
 "nbformat": 4,
 "nbformat_minor": 2
}
