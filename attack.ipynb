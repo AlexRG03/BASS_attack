{
 "cells": [
  {
   "cell_type": "code",
   "execution_count": null,
   "metadata": {},
   "outputs": [],
   "source": [
    "import sys\n",
    "import os\n",
    "\n",
    "notebook_dir = os.getcwd()\n",
    "src_dir = os.path.join(notebook_dir, 'src')\n",
    "sys.path.append(src_dir)\n",
    "\n",
    "from attack import *\n",
    "from communications import *\n",
    "from experiments import *"
   ]
  },
  {
   "cell_type": "code",
   "execution_count": null,
   "metadata": {},
   "outputs": [],
   "source": [
    "# Read the public key and the polynomial corresponding to the message we have to sign\n",
    "file_path = 'src/pk.txt'\n",
    "pk, q = read_pk(file_path)"
   ]
  },
  {
   "cell_type": "code",
   "execution_count": null,
   "metadata": {},
   "outputs": [],
   "source": [
    "# Compute P and phi(P) as specified on section 4.2\n",
    "p, phi_p = precomputation(pk)"
   ]
  },
  {
   "cell_type": "code",
   "execution_count": null,
   "metadata": {},
   "outputs": [],
   "source": [
    "# Find psi as specified on section 6\n",
    "psi = find_psi(p, phi_p)"
   ]
  },
  {
   "cell_type": "code",
   "execution_count": null,
   "metadata": {},
   "outputs": [],
   "source": [
    "print(\"Problem size: \", phi_p._idx.size)"
   ]
  },
  {
   "cell_type": "code",
   "execution_count": null,
   "metadata": {},
   "outputs": [],
   "source": [
    "# Check that our psi verifies the suficient condition\n",
    "psi_p1 = psi.apply(pk[0])\n",
    "psi_p1 *= -1\n",
    "psi_p1 += pk[3]\n",
    "print(\"psi(P1)-phi(P1) = \", psi_p1)\n",
    "psi_p2 = psi.apply(pk[1])\n",
    "psi_p2 *= -1\n",
    "psi_p2 += pk[4]\n",
    "print(\"psi(P2)-phi(P2) = \", psi_p2)\n",
    "psi_p3 = psi.apply(pk[2])\n",
    "psi_p3 *= -1\n",
    "psi_p3 += pk[5]\n",
    "print(\"psi(P2)-phi(P2) = \", psi_p3)"
   ]
  },
  {
   "cell_type": "code",
   "execution_count": null,
   "metadata": {},
   "outputs": [],
   "source": [
    "print(q._idx.size)"
   ]
  },
  {
   "cell_type": "code",
   "execution_count": null,
   "metadata": {},
   "outputs": [],
   "source": [
    "# Sign\n",
    "signature = psi.apply(q)"
   ]
  },
  {
   "cell_type": "code",
   "execution_count": null,
   "metadata": {},
   "outputs": [],
   "source": [
    "# Make an estimate of the amount of times our signature is accepted\n",
    "count = 0\n",
    "n = 1000\n",
    "\n",
    "for i in range(n):\n",
    "    if validate(pk, q, signature): count += 1\n",
    "\n",
    "print(\"psi(Q) is a valid signature with probability approximately \", count/n)"
   ]
  }
 ],
 "metadata": {
  "kernelspec": {
   "display_name": "Python 3.11.5 64-bit",
   "language": "python",
   "name": "python3"
  },
  "language_info": {
   "codemirror_mode": {
    "name": "ipython",
    "version": 3
   },
   "file_extension": ".py",
   "mimetype": "text/x-python",
   "name": "python",
   "nbconvert_exporter": "python",
   "pygments_lexer": "ipython3",
   "version": "3.11.5"
  },
  "orig_nbformat": 4,
  "vscode": {
   "interpreter": {
    "hash": "aee8b7b246df8f9039afb4144a1f6fd8d2ca17a180786b69acc140d282b71a49"
   }
  }
 },
 "nbformat": 4,
 "nbformat_minor": 2
}
