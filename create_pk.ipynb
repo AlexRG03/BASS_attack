{
 "cells": [
  {
   "cell_type": "code",
   "execution_count": null,
   "metadata": {},
   "outputs": [],
   "source": [
    "import string\n",
    "import sys\n",
    "import os\n",
    "import random\n",
    "\n",
    "notebook_dir = os.getcwd()\n",
    "src_dir = os.path.join(notebook_dir, 'pk_functions')\n",
    "sys.path.append(src_dir)\n",
    "\n",
    "from polynomials import *\n",
    "from scheme_functions import *"
   ]
  },
  {
   "cell_type": "code",
   "execution_count": null,
   "metadata": {},
   "outputs": [],
   "source": [
    "# Private key\n",
    "phi = generate_phi()\n",
    "print(phi)"
   ]
  },
  {
   "cell_type": "code",
   "execution_count": null,
   "metadata": {},
   "outputs": [],
   "source": [
    "# Public key\n",
    "p1 = get_p()\n",
    "p2 = get_p()\n",
    "p3 = get_p()\n",
    "print(\"P1: \", p1)\n",
    "print(\"P2: \", p2)\n",
    "print(\"P3: \", p3)\n",
    "phi_p1 = phi.apply(p1)\n",
    "print(\"phi_P1: \", phi_p1)\n",
    "phi_p2 = phi.apply(p2)\n",
    "print(\"phi_P2: \", phi_p2)\n",
    "phi_p3 = phi.apply(p3)\n",
    "print(\"phi_P3: \", phi_p3)\n",
    "pk = [p1, p2, p3, phi_p1, phi_p2, phi_p3]"
   ]
  },
  {
   "cell_type": "code",
   "execution_count": null,
   "metadata": {},
   "outputs": [],
   "source": [
    "# Create a random message. We ask the adversary to sign it.\n",
    "n = 20\n",
    "message = ''.join(random.choices(string.ascii_letters, k=n))\n",
    "print(\"message we want to send: \", message)\n",
    "\n",
    "# Find Q.\n",
    "q = get_Q(message)\n",
    "\n",
    "# Save the public key on the file pk.txt. Save Q also. The adversary will have to produce a valid signature.\n",
    "file_path = \"src/pk.txt\"\n",
    "\n",
    "phi.set_img(31, monomial([31])) # Extend\n",
    "phi_q = phi.apply(q) # Sign\n",
    "\n",
    "with open(file_path, 'w') as file:\n",
    "    for element in pk:\n",
    "        file.write(element.print(False)+\"\\n\")\n",
    "    file.write(q.print(False))\n",
    "    file.write(phi_q.print(False)) # We also store a valid signature to estimate the probability of acceptance."
   ]
  }
 ],
 "metadata": {
  "kernelspec": {
   "display_name": "Python 3.11.5 64-bit",
   "language": "python",
   "name": "python3"
  },
  "language_info": {
   "codemirror_mode": {
    "name": "ipython",
    "version": 3
   },
   "file_extension": ".py",
   "mimetype": "text/x-python",
   "name": "python",
   "nbconvert_exporter": "python",
   "pygments_lexer": "ipython3",
   "version": "3.11.5"
  },
  "orig_nbformat": 4,
  "vscode": {
   "interpreter": {
    "hash": "aee8b7b246df8f9039afb4144a1f6fd8d2ca17a180786b69acc140d282b71a49"
   }
  }
 },
 "nbformat": 4,
 "nbformat_minor": 2
}
