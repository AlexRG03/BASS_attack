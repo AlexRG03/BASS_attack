{
 "cells": [
  {
   "cell_type": "code",
   "execution_count": 1,
   "metadata": {},
   "outputs": [],
   "source": [
    "import string\n",
    "import sys\n",
    "import os\n",
    "import random\n",
    "\n",
    "notebook_dir = os.getcwd()\n",
    "src_dir = os.path.join(notebook_dir, 'pk_functions')\n",
    "sys.path.append(src_dir)\n",
    "\n",
    "from polynomials import *\n",
    "from scheme_functions import *"
   ]
  },
  {
   "cell_type": "code",
   "execution_count": 2,
   "metadata": {},
   "outputs": [
    {
     "name": "stdout",
     "output_type": "stream",
     "text": [
      "x_0 -> 0 + x_7\n",
      "x_1 -> (poly with 40 terms)\n",
      "x_2 -> 0 + x_10\n",
      "x_3 -> (poly with 37 terms)\n",
      "x_4 -> 1 + -1·x_25 + -1·x_30 + -1·x_7·x_16 + 2·x_25·x_30 + x_7·x_16·x_25 + 2·x_7·x_16·x_30 + -2·x_7·x_16·x_25·x_30\n",
      "x_5 -> 1 + -1·x_21 + -1·x_26 + -1·x_11·x_15 + -1·x_11·x_20 + 2·x_21·x_26 + 2·x_11·x_15·x_20 + x_11·x_15·x_21 + 2·x_11·x_15·x_26 + x_11·x_20·x_21 + 2·x_11·x_20·x_26 + -2·x_11·x_15·x_20·x_21 + -4·x_11·x_15·x_20·x_26 + -2·x_11·x_15·x_21·x_26 + -2·x_11·x_20·x_21·x_26 + -1·x_11·x_20·x_22·x_26 + 4·x_11·x_15·x_20·x_21·x_26 + 2·x_11·x_15·x_20·x_22·x_26 + x_11·x_20·x_21·x_22·x_26 + -2·x_11·x_15·x_20·x_21·x_22·x_26\n",
      "x_6 -> 0 + x_8\n",
      "x_7 -> 0 + x_16 + x_23 + -2·x_16·x_23 + -1·x_10·x_16·x_26 + 2·x_10·x_16·x_23·x_26\n",
      "x_8 -> 0 + x_27\n",
      "x_9 -> 0 + x_5 + x_10·x_16 + -2·x_5·x_10·x_16 + -1·x_10·x_16·x_26 + 2·x_5·x_10·x_16·x_26\n",
      "x_10 -> (poly with 54 terms)\n",
      "x_11 -> 0 + x_2\n",
      "x_12 -> 1 + -1·x_4 + -1·x_25 + -1·x_0·x_23 + 2·x_4·x_25 + 2·x_0·x_4·x_23 + x_0·x_23·x_25 + -2·x_0·x_4·x_23·x_25\n",
      "x_13 -> (poly with 64 terms)\n",
      "x_14 -> 1 + -1·x_1 + -1·x_17 + 2·x_1·x_17 + -1·x_14·x_19 + 2·x_1·x_14·x_19 + x_14·x_17·x_19 + -2·x_1·x_14·x_17·x_19\n",
      "x_15 -> 0 + x_29\n",
      "x_16 -> 0 + x_3 + x_1·x_24·x_27 + -2·x_1·x_3·x_24·x_27\n",
      "x_17 -> (poly with 148 terms)\n",
      "x_18 -> (poly with 28 terms)\n",
      "x_19 -> 1 + -1·x_3 + -1·x_13 + 2·x_3·x_13 + -1·x_20·x_30 + x_3·x_20·x_30 + 2·x_13·x_20·x_30 + -2·x_3·x_13·x_20·x_30\n",
      "x_20 -> (poly with 36 terms)\n",
      "x_21 -> 0 + x_28 + x_4·x_10·x_24 + -2·x_4·x_10·x_24·x_28\n",
      "x_22 -> 0 + x_6\n",
      "x_23 -> (poly with 198 terms)\n",
      "x_24 -> 0 + x_21\n",
      "x_25 -> 1 + -1·x_9 + -1·x_28 + 2·x_9·x_28 + -1·x_20·x_27 + 2·x_9·x_20·x_27 + x_20·x_27·x_28 + -2·x_9·x_20·x_27·x_28\n",
      "x_26 -> (poly with 32 terms)\n",
      "x_27 -> 0 + x_18 + x_9·x_24·x_30 + -2·x_9·x_18·x_24·x_30\n",
      "x_28 -> 0 + x_15 + x_20 + -2·x_15·x_20 + -1·x_20·x_22·x_26 + 2·x_15·x_20·x_22·x_26\n",
      "x_29 -> 0 + x_12 + x_28·x_30 + -1·x_7·x_28·x_30 + -2·x_12·x_28·x_30 + 2·x_7·x_12·x_28·x_30\n",
      "x_30 -> 0 + x_14\n",
      "Number of simple images: 9\n",
      "\n"
     ]
    }
   ],
   "source": [
    "# Private key\n",
    "phi = generate_phi()\n",
    "print(phi)"
   ]
  },
  {
   "cell_type": "code",
   "execution_count": 3,
   "metadata": {},
   "outputs": [
    {
     "name": "stdout",
     "output_type": "stream",
     "text": [
      "P1:  0 + -1·x_0·x_10 + -1·x_3·x_12·x_28 + -1·x_4·x_13·x_18\n",
      "P2:  0 + -1·x_2·x_21·x_27 + x_9·x_12·x_25 + -1·x_12·x_14·x_28\n",
      "P3:  0 + x_10 + x_14·x_19 + x_17·x_24·x_29\n",
      "phi_P1:  (poly with 5043 terms)\n",
      "phi_P2:  (poly with 650 terms)\n",
      "phi_P3:  (poly with 441 terms)\n"
     ]
    }
   ],
   "source": [
    "# Public key\n",
    "p1 = get_p()\n",
    "p2 = get_p()\n",
    "p3 = get_p()\n",
    "print(\"P1: \", p1)\n",
    "print(\"P2: \", p2)\n",
    "print(\"P3: \", p3)\n",
    "phi_p1 = phi.apply(p1)\n",
    "print(\"phi_P1: \", phi_p1)\n",
    "phi_p2 = phi.apply(p2)\n",
    "print(\"phi_P2: \", phi_p2)\n",
    "phi_p3 = phi.apply(p3)\n",
    "print(\"phi_P3: \", phi_p3)\n",
    "pk = [p1, p2, p3, phi_p1, phi_p2, phi_p3]"
   ]
  },
  {
   "cell_type": "code",
   "execution_count": 4,
   "metadata": {},
   "outputs": [
    {
     "name": "stdout",
     "output_type": "stream",
     "text": [
      "message we want to send:  IYbWIswjPzKmImgrvxdO\n",
      "Valid signature:  (poly with 688 terms)\n"
     ]
    }
   ],
   "source": [
    "# Create a random message. We ask the adversary to sign it.\n",
    "n = 20\n",
    "message = ''.join(random.choices(string.ascii_letters, k=n))\n",
    "print(\"message we want to send: \", message)\n",
    "\n",
    "# Find Q.\n",
    "q = get_Q(message)\n",
    "\n",
    "# Save the public key on the file pk.txt. Save Q also. The adversary will have to produce a valid signature.\n",
    "file_path = \"src/pk.txt\"\n",
    "\n",
    "phi.set_img(31, monomial([31])) # Extend\n",
    "phi_q = phi.apply(q) # Sign\n",
    "print(\"Valid signature: \", phi_q)\n",
    "\n",
    "with open(file_path, 'w') as file:\n",
    "    for element in pk:\n",
    "        file.write(element.print(False)+\"\\n\")\n",
    "    file.write(q.print(False)+\"\\n\")\n",
    "    file.write(phi_q.print(False)+\"\\n\") # We also store a valid signature to estimate the probability of acceptance."
   ]
  }
 ],
 "metadata": {
  "kernelspec": {
   "display_name": "Python 3.11.5 64-bit",
   "language": "python",
   "name": "python3"
  },
  "language_info": {
   "codemirror_mode": {
    "name": "ipython",
    "version": 3
   },
   "file_extension": ".py",
   "mimetype": "text/x-python",
   "name": "python",
   "nbconvert_exporter": "python",
   "pygments_lexer": "ipython3",
   "version": "3.11.5"
  },
  "orig_nbformat": 4,
  "vscode": {
   "interpreter": {
    "hash": "aee8b7b246df8f9039afb4144a1f6fd8d2ca17a180786b69acc140d282b71a49"
   }
  }
 },
 "nbformat": 4,
 "nbformat_minor": 2
}
