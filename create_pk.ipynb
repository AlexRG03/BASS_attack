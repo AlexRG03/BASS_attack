{
 "cells": [
  {
   "cell_type": "code",
   "execution_count": 1,
   "metadata": {},
   "outputs": [],
   "source": [
    "import string\n",
    "import sys\n",
    "import os\n",
    "import random\n",
    "\n",
    "notebook_dir = os.getcwd()\n",
    "src_dir = os.path.join(notebook_dir, 'pk_functions')\n",
    "sys.path.append(src_dir)\n",
    "\n",
    "from polynomials import *\n",
    "from scheme_functions import *"
   ]
  },
  {
   "cell_type": "code",
   "execution_count": 2,
   "metadata": {},
   "outputs": [
    {
     "name": "stdout",
     "output_type": "stream",
     "text": [
      "x_0 -> 0 + x_13\n",
      "x_1 -> 0 + x_12\n",
      "x_2 -> 0 + x_11\n",
      "x_3 -> 1 + -1·x_1 + -1·x_12 + 2·x_1·x_12 + -1·x_11·x_13 + 2·x_1·x_11·x_13 + x_11·x_12·x_13 + -2·x_1·x_11·x_12·x_13\n",
      "x_4 -> 1 + -1·x_1 + -1·x_3 + 2·x_1·x_3 + -1·x_11·x_12 + x_1·x_11·x_12 + 2·x_3·x_11·x_12 + -2·x_1·x_3·x_11·x_12\n",
      "x_5 -> (poly with 40 terms)\n",
      "x_6 -> (poly with 40 terms)\n",
      "x_7 -> (poly with 32 terms)\n",
      "x_8 -> 0 + x_13 + x_22 + -2·x_13·x_22 + -1·x_11·x_12·x_13 + 2·x_11·x_12·x_13·x_22\n",
      "x_9 -> 0 + x_4\n",
      "x_10 -> 0 + x_0\n",
      "x_11 -> (poly with 184 terms)\n",
      "x_12 -> 0 + x_8 + x_12·x_22 + -1·x_3·x_12·x_22 + -2·x_8·x_12·x_22 + 2·x_3·x_8·x_12·x_22\n",
      "x_13 -> 0 + x_7 + x_11 + -2·x_7·x_11 + -1·x_6·x_8·x_11 + 2·x_6·x_7·x_8·x_11\n",
      "x_14 -> 0 + x_20\n",
      "x_15 -> (poly with 104 terms)\n",
      "x_16 -> 0 + x_1 + x_30 + -2·x_1·x_30 + -1·x_1·x_10·x_22 + 2·x_1·x_10·x_22·x_30\n",
      "x_17 -> 0 + x_14 + x_23 + x_3·x_13 + -2·x_14·x_23 + -1·x_0·x_3·x_13 + -2·x_3·x_13·x_14 + -2·x_3·x_13·x_23 + -1·x_17·x_23·x_28 + 2·x_0·x_3·x_13·x_14 + 2·x_0·x_3·x_13·x_23 + 4·x_3·x_13·x_14·x_23 + 2·x_14·x_17·x_23·x_28 + -4·x_0·x_3·x_13·x_14·x_23 + 2·x_3·x_13·x_17·x_23·x_28 + -2·x_0·x_3·x_13·x_17·x_23·x_28 + -4·x_3·x_13·x_14·x_17·x_23·x_28 + 4·x_0·x_3·x_13·x_14·x_17·x_23·x_28\n",
      "x_18 -> 0 + x_29\n",
      "x_19 -> 0 + x_18 + x_21 + -2·x_18·x_21 + -1·x_18·x_23·x_24 + 2·x_18·x_21·x_23·x_24\n",
      "x_20 -> 0 + x_24 + x_18·x_19·x_23 + x_18·x_23·x_28 + x_1·x_7·x_18·x_23 + -2·x_18·x_19·x_23·x_24 + -2·x_18·x_19·x_23·x_28 + -2·x_18·x_23·x_24·x_28 + -2·x_1·x_7·x_18·x_19·x_23 + -2·x_1·x_7·x_18·x_23·x_24 + -1·x_1·x_7·x_18·x_23·x_28 + 4·x_18·x_19·x_23·x_24·x_28 + 4·x_1·x_7·x_18·x_19·x_23·x_24 + 2·x_1·x_7·x_18·x_19·x_23·x_28 + 2·x_1·x_7·x_18·x_23·x_24·x_28 + -4·x_1·x_7·x_18·x_19·x_23·x_24·x_28\n",
      "x_21 -> 0 + x_5 + x_18 + -2·x_5·x_18 + -1·x_5·x_16·x_23 + 2·x_5·x_16·x_18·x_23\n",
      "x_22 -> (poly with 34 terms)\n",
      "x_23 -> 0 + x_23 + x_15·x_16·x_28 + -2·x_15·x_16·x_23·x_28\n",
      "x_24 -> 0 + x_15\n",
      "x_25 -> 0 + x_28\n",
      "x_26 -> 1 + -1·x_19 + -1·x_28 + -1·x_1·x_7 + 2·x_19·x_28 + 2·x_1·x_7·x_19 + x_1·x_7·x_28 + -2·x_1·x_7·x_19·x_28\n",
      "x_27 -> 0 + x_17\n",
      "x_28 -> 0 + x_2\n",
      "x_29 -> 0 + x_16\n",
      "x_30 -> 1 + -1·x_2 + -1·x_27 + 2·x_2·x_27 + -1·x_6·x_15 + x_2·x_6·x_15 + 2·x_6·x_15·x_27 + -2·x_2·x_6·x_15·x_27\n",
      "Number of simple images: 12\n",
      "\n"
     ]
    }
   ],
   "source": [
    "# Private key\n",
    "phi = generate_phi()\n",
    "print(phi)"
   ]
  },
  {
   "cell_type": "code",
   "execution_count": 3,
   "metadata": {},
   "outputs": [
    {
     "name": "stdout",
     "output_type": "stream",
     "text": [
      "P1:  0 + x_17·x_29 + -1·x_2·x_9·x_20 + -1·x_4·x_12·x_23\n",
      "P2:  0 + x_14 + x_4·x_7·x_12 + x_8·x_11·x_28\n",
      "P3:  0 + x_2 + -1·x_5·x_14 + -1·x_3·x_14·x_29\n",
      "phi_P1:  (poly with 105 terms)\n",
      "phi_P2:  (poly with 1127 terms)\n",
      "phi_P3:  (poly with 50 terms)\n"
     ]
    }
   ],
   "source": [
    "# Public key\n",
    "p1 = get_p()\n",
    "p2 = get_p()\n",
    "p3 = get_p()\n",
    "print(\"P1: \", p1)\n",
    "print(\"P2: \", p2)\n",
    "print(\"P3: \", p3)\n",
    "phi_p1 = phi.apply(p1)\n",
    "print(\"phi_P1: \", phi_p1)\n",
    "phi_p2 = phi.apply(p2)\n",
    "print(\"phi_P2: \", phi_p2)\n",
    "phi_p3 = phi.apply(p3)\n",
    "print(\"phi_P3: \", phi_p3)\n",
    "pk = [p1, p2, p3, phi_p1, phi_p2, phi_p3]"
   ]
  },
  {
   "cell_type": "code",
   "execution_count": 4,
   "metadata": {},
   "outputs": [
    {
     "name": "stdout",
     "output_type": "stream",
     "text": [
      "message we want to send:  ZNLOVjmoHBbdncurPunE\n"
     ]
    }
   ],
   "source": [
    "# Create a random message. We ask the adversary to sign it.\n",
    "n = 20\n",
    "message = ''.join(random.choices(string.ascii_letters, k=n))\n",
    "print(\"message we want to send: \", message)\n",
    "\n",
    "# Find Q.\n",
    "q = get_Q(message)\n",
    "\n",
    "# Save the public key on the file pk.txt. Save Q also. The adversary will have to produce a valid signature.\n",
    "file_path = \"src/pk.txt\"\n",
    "\n",
    "phi.set_img(31, monomial([31])) # Extend\n",
    "phi_q = phi.apply(q) # Sign\n",
    "\n",
    "with open(file_path, 'w') as file:\n",
    "    for element in pk:\n",
    "        file.write(element.print(False)+\"\\n\")\n",
    "    file.write(q.print(False))\n",
    "    file.write(phi_q.print(False)) # We also store a valid signature to estimate the probability of acceptance."
   ]
  },
  {
   "cell_type": "code",
   "execution_count": 5,
   "metadata": {},
   "outputs": [
    {
     "name": "stdout",
     "output_type": "stream",
     "text": [
      "19\n",
      "19\n",
      "12\n"
     ]
    }
   ],
   "source": [
    "print(len(phi_p1.idx()))\n",
    "print(len(phi_p2.idx()))\n",
    "print(len(phi_p3.idx()))"
   ]
  }
 ],
 "metadata": {
  "kernelspec": {
   "display_name": "Python 3.11.5 64-bit",
   "language": "python",
   "name": "python3"
  },
  "language_info": {
   "codemirror_mode": {
    "name": "ipython",
    "version": 3
   },
   "file_extension": ".py",
   "mimetype": "text/x-python",
   "name": "python",
   "nbconvert_exporter": "python",
   "pygments_lexer": "ipython3",
   "version": "3.11.5"
  },
  "orig_nbformat": 4,
  "vscode": {
   "interpreter": {
    "hash": "aee8b7b246df8f9039afb4144a1f6fd8d2ca17a180786b69acc140d282b71a49"
   }
  }
 },
 "nbformat": 4,
 "nbformat_minor": 2
}
