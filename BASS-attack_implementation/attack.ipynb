{
 "cells": [
  {
   "cell_type": "code",
   "execution_count": null,
   "metadata": {},
   "outputs": [],
   "source": [
    "import sys\n",
    "import os\n",
    "\n",
    "notebook_dir = os.getcwd()\n",
    "src_dir = os.path.join(notebook_dir, 'src')\n",
    "sys.path.append(src_dir)\n",
    "\n",
    "from polynomials import *\n",
    "from attack import *\n",
    "from communications import *\n",
    "from experiments import *"
   ]
  },
  {
   "cell_type": "code",
   "execution_count": null,
   "metadata": {},
   "outputs": [],
   "source": [
    "file_path = 'src/pk.txt'\n",
    "pk, q = read_python_pk(file_path)"
   ]
  },
  {
   "cell_type": "code",
   "execution_count": null,
   "metadata": {},
   "outputs": [],
   "source": [
    "p, phi_p = precomputation(pk)"
   ]
  },
  {
   "cell_type": "code",
   "execution_count": null,
   "metadata": {},
   "outputs": [],
   "source": [
    "psi = find_psi(p, phi_p)"
   ]
  },
  {
   "cell_type": "code",
   "execution_count": null,
   "metadata": {},
   "outputs": [],
   "source": [
    "# psi = fifo(p, phi_p)"
   ]
  },
  {
   "cell_type": "code",
   "execution_count": null,
   "metadata": {},
   "outputs": [],
   "source": [
    "psi_p1 = psi.apply(pk[0])\n",
    "psi_p1 *= -1\n",
    "psi_p1 += pk[3]\n",
    "print(psi_p1)"
   ]
  },
  {
   "cell_type": "code",
   "execution_count": null,
   "metadata": {},
   "outputs": [],
   "source": [
    "psi_p2 = psi.apply(pk[1])\n",
    "psi_p2 *= -1\n",
    "psi_p2 += pk[4]\n",
    "print(psi_p2)"
   ]
  },
  {
   "cell_type": "code",
   "execution_count": null,
   "metadata": {},
   "outputs": [],
   "source": [
    "psi_p3 = psi.apply(pk[2])\n",
    "psi_p3 *= -1\n",
    "psi_p3 += pk[5]\n",
    "print(psi_p3)"
   ]
  },
  {
   "cell_type": "code",
   "execution_count": null,
   "metadata": {},
   "outputs": [],
   "source": [
    "signature = psi.apply(q)"
   ]
  },
  {
   "cell_type": "code",
   "execution_count": null,
   "metadata": {},
   "outputs": [],
   "source": [
    "valid = validate(pk, q, signature)\n",
    "print(\"Is this a valid signature? \", valid)"
   ]
  },
  {
   "cell_type": "code",
   "execution_count": null,
   "metadata": {},
   "outputs": [],
   "source": [
    "# count = 0\n",
    "# n = 1000\n",
    "\n",
    "# for i in range(n):\n",
    "#     if validate(pk, q, q): count += 1\n",
    "\n",
    "# print(\"Q is a valid signature with probability approximately \", count/n)"
   ]
  },
  {
   "cell_type": "code",
   "execution_count": null,
   "metadata": {},
   "outputs": [],
   "source": [
    "count = 0\n",
    "n = 1000\n",
    "\n",
    "for i in range(n):\n",
    "    if validate(pk, q, signature): count += 1\n",
    "\n",
    "print(\"psi(Q) is a valid signature with probability approximately \", count/n)"
   ]
  }
 ],
 "metadata": {
  "kernelspec": {
   "display_name": "Python 3.11.5 64-bit",
   "language": "python",
   "name": "python3"
  },
  "language_info": {
   "codemirror_mode": {
    "name": "ipython",
    "version": 3
   },
   "file_extension": ".py",
   "mimetype": "text/x-python",
   "name": "python",
   "nbconvert_exporter": "python",
   "pygments_lexer": "ipython3",
   "version": "3.11.5"
  },
  "orig_nbformat": 4,
  "vscode": {
   "interpreter": {
    "hash": "aee8b7b246df8f9039afb4144a1f6fd8d2ca17a180786b69acc140d282b71a49"
   }
  }
 },
 "nbformat": 4,
 "nbformat_minor": 2
}
