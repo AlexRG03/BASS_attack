{
 "cells": [
  {
   "cell_type": "code",
   "execution_count": 1,
   "metadata": {},
   "outputs": [],
   "source": [
    "from polynomials import *\n",
    "from attack import *\n",
    "from communications import *\n",
    "from experiments import *"
   ]
  },
  {
   "cell_type": "code",
   "execution_count": null,
   "metadata": {},
   "outputs": [],
   "source": [
    "file_path = 'pk.txt'\n",
    "pk, q = read_python_pk(file_path)"
   ]
  },
  {
   "cell_type": "code",
   "execution_count": null,
   "metadata": {},
   "outputs": [],
   "source": [
    "p, phi_p = precomputation(pk)"
   ]
  },
  {
   "cell_type": "code",
   "execution_count": null,
   "metadata": {},
   "outputs": [],
   "source": [
    "print(\"Matching distance: \", np.sum(p._coef != phi_p._coef)/(2**p._idx.size)) "
   ]
  },
  {
   "cell_type": "code",
   "execution_count": null,
   "metadata": {},
   "outputs": [],
   "source": [
    "q += 32\n",
    "print(\"Getting hist_p:\")\n",
    "hist_p = get_hist(p, q)\n",
    "print(\"Done!\\nNow getting hist_phi_p\")\n",
    "hist_phi_p = get_hist(phi_p, q)\n",
    "equal = np.sum(np.minimum(hist_p, hist_phi_p))\n",
    "n = 32\n",
    "proportion = equal/(2**n)\n",
    "distance = 1 - proportion\n",
    "print(\"Distance: \", distance)\n",
    "q += -32"
   ]
  }
 ],
 "metadata": {
  "kernelspec": {
   "display_name": "Python 3.11.5 64-bit",
   "language": "python",
   "name": "python3"
  },
  "language_info": {
   "codemirror_mode": {
    "name": "ipython",
    "version": 3
   },
   "file_extension": ".py",
   "mimetype": "text/x-python",
   "name": "python",
   "nbconvert_exporter": "python",
   "pygments_lexer": "ipython3",
   "version": "3.11.5"
  },
  "orig_nbformat": 4,
  "vscode": {
   "interpreter": {
    "hash": "aee8b7b246df8f9039afb4144a1f6fd8d2ca17a180786b69acc140d282b71a49"
   }
  }
 },
 "nbformat": 4,
 "nbformat_minor": 2
}
